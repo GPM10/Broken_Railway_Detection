{
  "metadata": {
    "kernelspec": {
      "language": "python",
      "display_name": "Python 3",
      "name": "python3"
    },
    "language_info": {
      "name": "python",
      "version": "3.11.11",
      "mimetype": "text/x-python",
      "codemirror_mode": {
        "name": "ipython",
        "version": 3
      },
      "pygments_lexer": "ipython3",
      "nbconvert_exporter": "python",
      "file_extension": ".py"
    },
    "kaggle": {
      "accelerator": "none",
      "dataSources": [
        {
          "sourceId": 1884733,
          "sourceType": "datasetVersion",
          "datasetId": 1005974
        }
      ],
      "dockerImageVersionId": 31012,
      "isInternetEnabled": true,
      "language": "python",
      "sourceType": "notebook",
      "isGpuEnabled": false
    },
    "colab": {
      "provenance": []
    }
  },
  "nbformat_minor": 0,
  "nbformat": 4,
  "cells": [
    {
      "cell_type": "markdown",
      "source": [
        "### Project Overview\n",
        "\n",
        "Accidents resulting from defective railway tracks and derailments are a frequent and serious concern, especially in Southeast Asian countries. Early and accurate detection of track faults is critical to prevent such disasters. However, manual inspection methods are often time-consuming, labor-intensive, and expensive.\n",
        "\n",
        "To address this, a series of four notebooks were developed to explore different automated fault detection approaches, using a publicly available railway track dataset from Kaggle:  \n",
        "[Railway Track Fault Detection Dataset](https://www.kaggle.com/datasets/salmaneunus/railway-track-fault-detection).\n",
        "\n",
        "1. **Classical Machine Learning(This Notebook):**  \n",
        "   Using traditional techniques such as Support Vector Machine (SVM), Logistic Regression, and Random Forest classifiers on hand-crafted HOG features.\n",
        "\n",
        "2. CNN-based Classification (without Augmentation):\n",
        "   Training convolutional neural network models on the original dataset to classify defective and non-defective railway tracks.\n",
        "\n",
        "3. CNN-based Classification (with Data Augmentation):\n",
        "   Enhancing the training data through augmentation techniques to improve model generalization and robustness.\n",
        "\n",
        "4. Anomaly Detection using Autoencoder:\n",
        "   Training a UNet-style convolutional autoencoder exclusively on healthy track images and detecting faults based on reconstruction error analysis.\n",
        "\n",
        "This multi-approach study provides a comprehensive evaluation of both classical and deep learning methods for automatic railway track fault detection.\n"
      ],
      "metadata": {
        "id": "qDX-xl9DDk5C"
      }
    },
    {
      "cell_type": "code",
      "source": [
        "# This Python 3 environment comes with many helpful analytics libraries installed\n",
        "# It is defined by the kaggle/python Docker image: https://github.com/kaggle/docker-python\n",
        "# For example, here's several helpful packages to load\n",
        "\n",
        "import numpy as np # linear algebra\n",
        "import pandas as pd # data processing, CSV file I/O (e.g. pd.read_csv)\n",
        "\n",
        "# Input data files are available in the read-only \"../input/\" directory\n",
        "# For example, running this (by clicking run or pressing Shift+Enter) will list all files under the input directory\n",
        "\n",
        "import os\n",
        "for dirname, _, filenames in os.walk('/kaggle/input'):\n",
        "    for filename in filenames:\n",
        "        print(os.path.join(dirname, filename))\n",
        "\n",
        "# You can write up to 20GB to the current directory (/kaggle/working/) that gets preserved as output when you create a version using \"Save & Run All\"\n",
        "# You can also write temporary files to /kaggle/temp/, but they won't be saved outside of the current session"
      ],
      "metadata": {
        "id": "6yHWBQjfDezm"
      },
      "execution_count": null,
      "outputs": []
    },
    {
      "cell_type": "code",
      "source": [
        "# Core Python Libraries\n",
        "import os\n",
        "import sys\n",
        "import gc\n",
        "import random as rnd\n",
        "from tqdm import tqdm\n",
        "from PIL import Image\n",
        "\n",
        "# Data Handling and Visualization\n",
        "import pandas as pd\n",
        "import numpy as np\n",
        "import matplotlib.pyplot as plt\n",
        "import seaborn as sns\n",
        "\n",
        "# Image Processing Libraries\n",
        "import cv2\n",
        "import skimage\n",
        "from skimage.feature import hog, canny\n",
        "from skimage.filters import sobel\n",
        "from skimage import color\n",
        "\n",
        "# Scikit-learn Preprocessing\n",
        "from sklearn.preprocessing import LabelEncoder, OneHotEncoder\n",
        "from sklearn.metrics import confusion_matrix, ConfusionMatrixDisplay, f1_score\n",
        "from sklearn.model_selection import GridSearchCV\n",
        "from sklearn.svm import SVC\n",
        "from sklearn.ensemble import RandomForestClassifier\n",
        "from sklearn.model_selection import GridSearchCV\n",
        "from sklearn.linear_model import LogisticRegression\n",
        "from sklearn.model_selection import GridSearchCV\n",
        "from sklearn.metrics import confusion_matrix, classification_report, ConfusionMatrixDisplay, f1_score\n",
        "# TensorFlow and Keras\n",
        "import tensorflow as tf\n",
        "from tensorflow.keras import layers, Model\n",
        "from tensorflow.keras.models import Sequential\n",
        "from tensorflow.keras.layers import (Input, Dense, Dropout, Activation, Flatten,\n",
        "                                     BatchNormalization, Conv2D, MaxPooling2D,\n",
        "                                     AveragePooling2D, GlobalAveragePooling2D)\n",
        "from tensorflow.keras.utils import image_dataset_from_directory\n",
        "from tensorflow.keras.applications import ResNet50, VGG16, InceptionV3\n",
        "from tensorflow.keras.applications.imagenet_utils import preprocess_input\n",
        "import keras.backend as K\n",
        "\n",
        "# Explainability Tools\n",
        "from tf_explain.core.activations import ExtractActivations\n",
        "from tf_explain.core.smoothgrad import SmoothGrad\n",
        "\n",
        "# Miscellaneous\n",
        "import pickle\n",
        "from numpy import expand_dims\n",
        "\n",
        "# Visualization for Training Progress\n",
        "try:\n",
        "    from livelossplot import PlotLossesKeras\n",
        "except ImportError:\n",
        "    !pip install livelossplot\n",
        "    from livelossplot import PlotLossesKeras\n",
        "\n",
        "# Enable inline plotting for notebooks\n",
        "%matplotlib inline\n"
      ],
      "metadata": {
        "trusted": true,
        "execution": {
          "iopub.status.busy": "2025-04-28T14:13:20.569348Z",
          "iopub.execute_input": "2025-04-28T14:13:20.569682Z",
          "iopub.status.idle": "2025-04-28T14:13:40.056011Z",
          "shell.execute_reply.started": "2025-04-28T14:13:20.569642Z",
          "shell.execute_reply": "2025-04-28T14:13:40.054506Z"
        },
        "id": "Mo58bRDGc2vk"
      },
      "outputs": [],
      "execution_count": null
    },
    {
      "cell_type": "markdown",
      "source": [
        "## Dataset Organization\n",
        "\n",
        "The dataset consists of railway track images categorized into two classes: Defective and Non-defective.\n",
        "The images are split into three subsets:\n",
        "- Train set\n",
        "- Validation set\n",
        "- Test set\n",
        "\n",
        "Each subset contains separate folders for defective and non-defective samples.  \n",
        "The number of samples in each category and subset was printed to verify correct dataset loading.\n",
        "\n",
        "Additionally, all defective and non-defective samples across train, validation, and test sets were concatenated into two combined DataFrames (defective and undefective) for further analysis and visualization.\n",
        "\n",
        "### Dataset Split Summary\n",
        "\n",
        "The dataset was evenly split between defective and undefective railway track images across training, validation, and test sets:\n",
        "\n",
        "- Training set: 150 defective and 150 undefective samples\n",
        "- Validation set: 31 defective and 31 undefective samples\n",
        "- Test set: 11 defective and 11 undefective samples\n",
        "\n",
        "This balanced split ensures that both classes are equally represented during model training and evaluation, minimizing bias and providing a fair assessment of performance.\n",
        "\n"
      ],
      "metadata": {
        "id": "nMPL7M9oc2vl"
      }
    },
    {
      "cell_type": "code",
      "source": [
        "train_path = '../input/railway-track-fault-detection/Railway Track fault Detection Updated/Train'\n",
        "val_path = '../input/railway-track-fault-detection/Railway Track fault Detection Updated/Validation'\n",
        "test_path = '../input/railway-track-fault-detection/Railway Track fault Detection Updated/Test'"
      ],
      "metadata": {
        "trusted": true,
        "execution": {
          "iopub.status.busy": "2025-04-28T14:13:54.415648Z",
          "iopub.execute_input": "2025-04-28T14:13:54.416893Z",
          "iopub.status.idle": "2025-04-28T14:13:54.421484Z",
          "shell.execute_reply.started": "2025-04-28T14:13:54.416854Z",
          "shell.execute_reply": "2025-04-28T14:13:54.420460Z"
        },
        "id": "v5oP-v-0c2vm"
      },
      "outputs": [],
      "execution_count": null
    },
    {
      "cell_type": "code",
      "source": [
        "train_df_defective = pd.DataFrame(os.listdir(train_path+'/Defective'))\n",
        "val_df_defective = pd.DataFrame(os.listdir(val_path+'/Defective'))\n",
        "test_df_defective = pd.DataFrame(os.listdir(test_path+'/Defective'))\n",
        "train_df_undefective = pd.DataFrame(os.listdir(train_path+'/Non defective'))\n",
        "val_df_undefective = pd.DataFrame(os.listdir(val_path+'/Non defective'))\n",
        "test_df_undefective = pd.DataFrame(os.listdir(test_path+'/Non defective'))"
      ],
      "metadata": {
        "trusted": true,
        "execution": {
          "iopub.status.busy": "2025-04-28T14:13:56.211201Z",
          "iopub.execute_input": "2025-04-28T14:13:56.211897Z",
          "iopub.status.idle": "2025-04-28T14:13:56.231250Z",
          "shell.execute_reply.started": "2025-04-28T14:13:56.211869Z",
          "shell.execute_reply": "2025-04-28T14:13:56.230181Z"
        },
        "id": "28sT4xWvc2vm"
      },
      "outputs": [],
      "execution_count": null
    },
    {
      "cell_type": "code",
      "source": [
        "defective=pd.concat([train_df_defective,test_df_defective,val_df_defective], axis=0)\n",
        "undefective=pd.concat([train_df_undefective,test_df_undefective,val_df_undefective], axis=0)"
      ],
      "metadata": {
        "trusted": true,
        "execution": {
          "iopub.status.busy": "2025-04-28T14:13:59.049653Z",
          "iopub.execute_input": "2025-04-28T14:13:59.050097Z",
          "iopub.status.idle": "2025-04-28T14:13:59.058390Z",
          "shell.execute_reply.started": "2025-04-28T14:13:59.050068Z",
          "shell.execute_reply": "2025-04-28T14:13:59.057253Z"
        },
        "id": "OhgBV5-Cc2vm"
      },
      "outputs": [],
      "execution_count": null
    },
    {
      "cell_type": "code",
      "source": [
        "# Print the number of defective and undefective samples in the training, validation, and test sets\n",
        "print('Train samples defective: ', len(train_df_defective))\n",
        "print('Val samples defective: ', len(val_df_defective))\n",
        "print('Test samples defective: ', len(test_df_defective))\n",
        "print()\n",
        "print('Train samples undefective: ', len(train_df_undefective))\n",
        "print('Val samples undefective: ', len(val_df_undefective))\n",
        "print('Test samples undefective: ', len(test_df_undefective))"
      ],
      "metadata": {
        "trusted": true,
        "execution": {
          "iopub.status.busy": "2025-04-28T14:14:00.522531Z",
          "iopub.execute_input": "2025-04-28T14:14:00.523490Z",
          "iopub.status.idle": "2025-04-28T14:14:00.531646Z",
          "shell.execute_reply.started": "2025-04-28T14:14:00.523455Z",
          "shell.execute_reply": "2025-04-28T14:14:00.530719Z"
        },
        "id": "C8Deqvocc2vm"
      },
      "outputs": [],
      "execution_count": null
    },
    {
      "cell_type": "code",
      "source": [
        "# Display the first 31 defective training images after resizing them to 448x448 and print their original dimensions\n",
        "plt.figure(figsize=(15, 12))\n",
        "for idx, image_path in enumerate(train_df_defective[0]):\n",
        "    if idx == 31:\n",
        "        break\n",
        "    plt.subplot(4, 8, idx + 1)\n",
        "\n",
        "    # Read the image with OpenCV\n",
        "    img = cv2.imread('../input/railway-track-fault-detection/Railway Track fault Detection Updated/Train/Defective/' + image_path)\n",
        "\n",
        "    # OpenCV loads images in BGR format, so convert to RGB\n",
        "    img = cv2.cvtColor(img, cv2.COLOR_BGR2RGB)\n",
        "\n",
        "    height, width, channels = img.shape\n",
        "\n",
        "    print(f\"Width: {width}, Height: {height}, Channels: {channels}\")\n",
        "    #Resize the image\n",
        "    img = cv2.resize(img, (448, 448))\n",
        "\n",
        "    # Display the image\n",
        "    plt.imshow(img)\n",
        "    plt.axis('off')\n",
        "    plt.title(idx)\n",
        "\n",
        "plt.tight_layout()\n",
        "plt.show()\n"
      ],
      "metadata": {
        "trusted": true,
        "execution": {
          "iopub.status.busy": "2025-04-28T14:14:03.196434Z",
          "iopub.execute_input": "2025-04-28T14:14:03.197121Z",
          "iopub.status.idle": "2025-04-28T14:14:11.002934Z",
          "shell.execute_reply.started": "2025-04-28T14:14:03.197092Z",
          "shell.execute_reply": "2025-04-28T14:14:11.001882Z"
        },
        "id": "EIH6SD2Cc2vn"
      },
      "outputs": [],
      "execution_count": null
    },
    {
      "cell_type": "code",
      "source": [
        "# Display the first 31 undefective training images after resizing them to 448x448 for visual inspection\n",
        "\n",
        "plt.figure(figsize=(15, 12))\n",
        "for idx, image_path in enumerate(train_df_undefective[0]):\n",
        "    if idx == 31:\n",
        "        break\n",
        "    plt.subplot(4, 8, idx + 1)\n",
        "\n",
        "    # Read the image with OpenCV\n",
        "    img = cv2.imread('../input/railway-track-fault-detection/Railway Track fault Detection Updated/Train/Non defective/' + image_path)\n",
        "\n",
        "    # OpenCV loads images in BGR format, so convert to RGB\n",
        "    img = cv2.cvtColor(img, cv2.COLOR_BGR2RGB)\n",
        "\n",
        "    # Resize the image\n",
        "    img = cv2.resize(img, (448, 448))\n",
        "\n",
        "    # Display the image\n",
        "    plt.imshow(img)\n",
        "    plt.axis('off')\n",
        "    plt.title(idx)\n",
        "\n",
        "plt.tight_layout()\n",
        "plt.show()\n"
      ],
      "metadata": {
        "trusted": true,
        "execution": {
          "iopub.status.busy": "2025-04-28T14:14:52.867317Z",
          "iopub.execute_input": "2025-04-28T14:14:52.867744Z",
          "iopub.status.idle": "2025-04-28T14:15:03.663116Z",
          "shell.execute_reply.started": "2025-04-28T14:14:52.867704Z",
          "shell.execute_reply": "2025-04-28T14:15:03.661846Z"
        },
        "id": "xab5rUlLc2vn"
      },
      "outputs": [],
      "execution_count": null
    },
    {
      "cell_type": "markdown",
      "source": [
        "### HOG Feature Extraction\n",
        "\n",
        "In this section, we extract Histogram of Oriented Gradients (HOG) features from the railway track images to create a feature set for classification.\n",
        "\n",
        "- Grayscale Conversion: Each image is first converted to grayscale to simplify the feature extraction.\n",
        "- Resizing: Images are resized to 128 times 128 pixels for uniformity.\n",
        "- HOG Descriptor:\n",
        "  - Captures the distribution of gradient orientations (edges) in localized regions of the image.\n",
        "  - Parameters used:\n",
        "    - pixels\\_per\\_cell = (16, 16)\n",
        "    - cells\\_per\\_block = (2, 2)\n",
        "  - Both the HOG feature vector and a visualization of the HOG representation are obtained.\n",
        "- Label Assignment:\n",
        "  - Defective images are labeled as \\(1\\).\n",
        "  - Non-defective (healthy) images are labeled as \\(0\\).\n",
        "- Visualization:\n",
        "  - A few HOG-transformed images from both defective and non-defective classes are saved for visualization.\n",
        "\n",
        "Finally, the HOG feature vectors X_train_features and the corresponding labels y_train_labels are stored as NumPy arrays for use in machine learning models.\n"
      ],
      "metadata": {
        "id": "2kL-__w8c2vn"
      }
    },
    {
      "cell_type": "code",
      "source": [
        "# Extract HOG (Histogram of Oriented Gradients) features for defective and non-defective images:\n",
        "# - Convert images to grayscale\n",
        "# - Resize images to 128x128 for uniformity\n",
        "# - Extract HOG features with pixels_per_cell=(16,16) and cells_per_block=(2,2)\n",
        "# - Store extracted features and labels\n",
        "# - Save a few HOG visualizations for later analysis\n",
        "\n",
        "X_train_features = []\n",
        "y_train_labels = []\n",
        "\n",
        "# For Visualization\n",
        "hog_images_defective = []\n",
        "hog_images_nondefective = []\n",
        "count_defective = 0\n",
        "count_nondefective = 0\n",
        "\n",
        "# Defective images\n",
        "for img_path in tqdm(train_df_defective[0]):\n",
        "    img = cv2.imread(train_path + '/Defective/' + img_path)\n",
        "    img = cv2.cvtColor(img, cv2.COLOR_BGR2GRAY)\n",
        "    img = cv2.resize(img, (128, 128))\n",
        "\n",
        "    features, hog_image = hog(img, pixels_per_cell=(16, 16), cells_per_block=(2, 2), visualize=True)\n",
        "    X_train_features.append(features)\n",
        "    y_train_labels.append(1)\n",
        "\n",
        "    # Save HOG images for visualization (only 5)\n",
        "    if count_defective < 5:\n",
        "        hog_images_defective.append((img, hog_image))\n",
        "        count_defective += 1\n",
        "\n",
        "# Non-defective images\n",
        "for img_path in tqdm(train_df_undefective[0]):\n",
        "    img = cv2.imread(train_path + '/Non defective/' + img_path)\n",
        "    img = cv2.cvtColor(img, cv2.COLOR_BGR2GRAY)\n",
        "    img = cv2.resize(img, (128, 128))\n",
        "\n",
        "    features, hog_image = hog(img, pixels_per_cell=(16, 16), cells_per_block=(2, 2), visualize=True)\n",
        "    X_train_features.append(features)\n",
        "    y_train_labels.append(0)\n",
        "\n",
        "    # Save HOG images for visualization (only 5)\n",
        "    if count_nondefective < 5:\n",
        "        hog_images_nondefective.append((img, hog_image))\n",
        "        count_nondefective += 1\n",
        "\n",
        "X_train_features = np.array(X_train_features)\n",
        "y_train_labels = np.array(y_train_labels)\n",
        "\n",
        "print(\"HOG feature extraction complete!\")\n"
      ],
      "metadata": {
        "trusted": true,
        "execution": {
          "iopub.status.busy": "2025-04-28T14:15:15.973875Z",
          "iopub.execute_input": "2025-04-28T14:15:15.974194Z",
          "iopub.status.idle": "2025-04-28T14:16:18.324085Z",
          "shell.execute_reply.started": "2025-04-28T14:15:15.974171Z",
          "shell.execute_reply": "2025-04-28T14:16:18.323174Z"
        },
        "id": "ssOzUpJKc2vn"
      },
      "outputs": [],
      "execution_count": null
    },
    {
      "cell_type": "code",
      "source": [
        "# Visualize original and HOG-transformed images:\n",
        "# - Display 5 defective and 5 non-defective samples\n",
        "# - Show side-by-side comparison: original grayscale image vs extracted HOG features\n",
        "# - Help understand how HOG captures edge and gradient information from the tracks\n",
        "\n",
        "# Plot defective samples\n",
        "plt.figure(figsize=(12, 10))\n",
        "for idx, (orig, hog_img) in enumerate(hog_images_defective):\n",
        "    plt.subplot(5, 2, idx*2 + 1)\n",
        "    plt.imshow(orig, cmap='gray')\n",
        "    plt.title('Defective - Original')\n",
        "    plt.axis('off')\n",
        "\n",
        "    plt.subplot(5, 2, idx*2 + 2)\n",
        "    plt.imshow(hog_img, cmap='gray')\n",
        "    plt.title('Defective - HOG')\n",
        "    plt.axis('off')\n",
        "\n",
        "plt.suptitle('Defective Track Samples - Original vs HOG', fontsize=16)\n",
        "plt.tight_layout()\n",
        "plt.show()\n",
        "\n",
        "# Plot non-defective samples\n",
        "plt.figure(figsize=(12, 10))\n",
        "for idx, (orig, hog_img) in enumerate(hog_images_nondefective):\n",
        "    plt.subplot(5, 2, idx*2 + 1)\n",
        "    plt.imshow(orig, cmap='gray')\n",
        "    plt.title('Non-defective - Original')\n",
        "    plt.axis('off')\n",
        "\n",
        "    plt.subplot(5, 2, idx*2 + 2)\n",
        "    plt.imshow(hog_img, cmap='gray')\n",
        "    plt.title('Non-defective - HOG')\n",
        "    plt.axis('off')\n",
        "\n",
        "plt.suptitle('Non-Defective Track Samples - Original vs HOG', fontsize=16)\n",
        "plt.tight_layout()\n",
        "plt.show()\n"
      ],
      "metadata": {
        "trusted": true,
        "execution": {
          "iopub.status.busy": "2025-04-28T14:16:22.301811Z",
          "iopub.execute_input": "2025-04-28T14:16:22.302535Z",
          "iopub.status.idle": "2025-04-28T14:16:24.096386Z",
          "shell.execute_reply.started": "2025-04-28T14:16:22.302505Z",
          "shell.execute_reply": "2025-04-28T14:16:24.095395Z"
        },
        "id": "JQfGaKquc2vo"
      },
      "outputs": [],
      "execution_count": null
    },
    {
      "cell_type": "code",
      "source": [
        "# Extract HOG features for validation images:\n",
        "# - Convert validation images to grayscale\n",
        "# - Resize images to 128x128\n",
        "# - Extract HOG features with pixels_per_cell=(16,16) and cells_per_block=(2,2)\n",
        "# - Assign labels: 1 for defective, 0 for non-defective\n",
        "# - Store the extracted features and labels into NumPy arrays\n",
        "\n",
        "X_val_features = []\n",
        "y_val_labels = []\n",
        "\n",
        "for img_path in tqdm(val_df_defective[0]):\n",
        "    img = cv2.imread(val_path + '/Defective/' + img_path)\n",
        "    img = cv2.cvtColor(img, cv2.COLOR_BGR2GRAY)\n",
        "    img = cv2.resize(img, (128, 128))\n",
        "    features = hog(img, pixels_per_cell=(16, 16), cells_per_block=(2, 2))\n",
        "    X_val_features.append(features)\n",
        "    y_val_labels.append(1)\n",
        "\n",
        "for img_path in tqdm(val_df_undefective[0]):\n",
        "    img = cv2.imread(val_path + '/Non defective/' + img_path)\n",
        "    img = cv2.cvtColor(img, cv2.COLOR_BGR2GRAY)\n",
        "    img = cv2.resize(img, (128, 128))\n",
        "    features = hog(img, pixels_per_cell=(16, 16), cells_per_block=(2, 2))\n",
        "    X_val_features.append(features)\n",
        "    y_val_labels.append(0)\n",
        "\n",
        "X_val_features = np.array(X_val_features)\n",
        "y_val_labels = np.array(y_val_labels)\n"
      ],
      "metadata": {
        "trusted": true,
        "execution": {
          "iopub.status.busy": "2025-04-28T14:16:31.788179Z",
          "iopub.execute_input": "2025-04-28T14:16:31.788503Z",
          "iopub.status.idle": "2025-04-28T14:16:47.267979Z",
          "shell.execute_reply.started": "2025-04-28T14:16:31.788478Z",
          "shell.execute_reply": "2025-04-28T14:16:47.267144Z"
        },
        "id": "X2CniwW_c2vo"
      },
      "outputs": [],
      "execution_count": null
    },
    {
      "cell_type": "code",
      "source": [
        "# Extract HOG features for test images:\n",
        "# - Convert test images to grayscale\n",
        "# - Resize images to 128x128\n",
        "# - Extract HOG features with pixels_per_cell=(16,16) and cells_per_block=(2,2)\n",
        "# - Assign labels: 1 for defective, 0 for non-defective\n",
        "# - Store the extracted features and labels into NumPy arrays\n",
        "\n",
        "X_test_features = []\n",
        "y_test_labels = []\n",
        "\n",
        "for img_path in tqdm(test_df_defective[0]):\n",
        "    img = cv2.imread(test_path + '/Defective/' + img_path)\n",
        "    img = cv2.cvtColor(img, cv2.COLOR_BGR2GRAY)\n",
        "    img = cv2.resize(img, (128, 128))\n",
        "    features = hog(img, pixels_per_cell=(16, 16), cells_per_block=(2, 2))\n",
        "    X_test_features.append(features)\n",
        "    y_test_labels.append(1)\n",
        "\n",
        "for img_path in tqdm(test_df_undefective[0]):\n",
        "    img = cv2.imread(test_path + '/Non defective/' + img_path)\n",
        "    img = cv2.cvtColor(img, cv2.COLOR_BGR2GRAY)\n",
        "    img = cv2.resize(img, (128, 128))\n",
        "    features = hog(img, pixels_per_cell=(16, 16), cells_per_block=(2, 2))\n",
        "    X_test_features.append(features)\n",
        "    y_test_labels.append(0)\n",
        "\n",
        "X_test_features = np.array(X_test_features)\n",
        "y_test_labels = np.array(y_test_labels)\n"
      ],
      "metadata": {
        "trusted": true,
        "execution": {
          "iopub.status.busy": "2025-04-28T14:16:59.267375Z",
          "iopub.execute_input": "2025-04-28T14:16:59.267753Z",
          "iopub.status.idle": "2025-04-28T14:17:04.685638Z",
          "shell.execute_reply.started": "2025-04-28T14:16:59.267724Z",
          "shell.execute_reply": "2025-04-28T14:17:04.684724Z"
        },
        "id": "tJ7QuOACc2vo"
      },
      "outputs": [],
      "execution_count": null
    },
    {
      "cell_type": "markdown",
      "source": [
        "### SVM Classification and Hyperparameter Tuning\n",
        "\n",
        "In this section, we train a Support Vector Machine (SVM) classifier using HOG features.\n",
        "\n",
        "- GridSearchCV is used to perform hyperparameter tuning over a predefined grid:\n",
        "  - \\(C\\) values: [0.1, 1, 10, 100]\n",
        "  - Kernels: linear, RBF\n",
        "  - Gamma settings: scale, auto (for RBF kernel)\n",
        "- A 5-fold cross-validation is applied to find the best combination of parameters.\n",
        "- The best SVM model is selected based on cross-validation accuracy.\n",
        "- The trained model is then evaluated on both the validation and test sets, and the accuracies are reported.\n"
      ],
      "metadata": {
        "id": "H4i7OifRc2vo"
      }
    },
    {
      "cell_type": "code",
      "source": [
        "# Set up the hyperparameter grid\n",
        "param_grid = {\n",
        "    'C': [0.1, 1, 10, 100],          # Regularization strength\n",
        "    'kernel': ['linear', 'rbf'],      # Linear or RBF kernel\n",
        "    'gamma': ['scale', 'auto']        # Only used for RBF\n",
        "}\n",
        "\n",
        "# Initialize SVM\n",
        "svm = SVC()\n",
        "\n",
        "# Set up GridSearchCV\n",
        "grid_search = GridSearchCV(estimator=svm, param_grid=param_grid,\n",
        "                           cv=5,              # 5-fold cross-validation\n",
        "                           scoring='accuracy',\n",
        "                           verbose=2,\n",
        "                           n_jobs=-1)         # Use all CPU cores\n"
      ],
      "metadata": {
        "trusted": true,
        "execution": {
          "iopub.status.busy": "2025-04-28T14:17:09.520835Z",
          "iopub.execute_input": "2025-04-28T14:17:09.521146Z",
          "iopub.status.idle": "2025-04-28T14:17:09.741115Z",
          "shell.execute_reply.started": "2025-04-28T14:17:09.521123Z",
          "shell.execute_reply": "2025-04-28T14:17:09.740201Z"
        },
        "id": "1VQrQiTqc2vo"
      },
      "outputs": [],
      "execution_count": null
    },
    {
      "cell_type": "code",
      "source": [
        "grid_search.fit(X_train_features, y_train_labels)\n"
      ],
      "metadata": {
        "trusted": true,
        "execution": {
          "iopub.status.busy": "2025-04-28T14:17:15.479970Z",
          "iopub.execute_input": "2025-04-28T14:17:15.480292Z",
          "iopub.status.idle": "2025-04-28T14:17:19.687762Z",
          "shell.execute_reply.started": "2025-04-28T14:17:15.480269Z",
          "shell.execute_reply": "2025-04-28T14:17:19.686757Z"
        },
        "id": "CtnUK-QJc2vp"
      },
      "outputs": [],
      "execution_count": null
    },
    {
      "cell_type": "code",
      "source": [
        "print(\"Best Hyperparameters:\", grid_search.best_params_)\n",
        "print(\"Best Cross-Validation Score:\", grid_search.best_score_)\n"
      ],
      "metadata": {
        "trusted": true,
        "execution": {
          "iopub.status.busy": "2025-04-28T14:17:21.793781Z",
          "iopub.execute_input": "2025-04-28T14:17:21.794081Z",
          "iopub.status.idle": "2025-04-28T14:17:21.798852Z",
          "shell.execute_reply.started": "2025-04-28T14:17:21.794061Z",
          "shell.execute_reply": "2025-04-28T14:17:21.798054Z"
        },
        "id": "1F0hh5ZSc2vp"
      },
      "outputs": [],
      "execution_count": null
    },
    {
      "cell_type": "code",
      "source": [
        "# Validation Predictions\n",
        "val_preds = best_svm.predict(X_val_features)\n",
        "\n",
        "# Validation Accuracy\n",
        "val_accuracy = accuracy_score(y_val_labels, val_preds)\n",
        "print(\"Validation Accuracy (SVM):\", val_accuracy)\n",
        "\n",
        "# Validation F1 Score\n",
        "val_f1 = f1_score(y_val_labels, val_preds, average='binary')\n",
        "print(\"Validation F1 Score (SVM):\", val_f1)\n",
        "\n",
        "# Validation Confusion Matrix\n",
        "cm_val = confusion_matrix(y_val_labels, val_preds)\n",
        "print(\"Validation Confusion Matrix (SVM):\")\n",
        "print(cm_val)\n",
        "\n",
        "# Display Confusion Matrix\n",
        "disp_val = ConfusionMatrixDisplay(confusion_matrix=cm_val, display_labels=['Non-Defective', 'Defective'])\n",
        "disp_val.plot(cmap='Blues')\n",
        "plt.title(\"Validation Confusion Matrix - SVM\")\n",
        "plt.show()\n"
      ],
      "metadata": {
        "trusted": true,
        "execution": {
          "iopub.status.busy": "2025-04-28T14:28:35.595655Z",
          "iopub.execute_input": "2025-04-28T14:28:35.596175Z",
          "iopub.status.idle": "2025-04-28T14:28:35.828788Z",
          "shell.execute_reply.started": "2025-04-28T14:28:35.596144Z",
          "shell.execute_reply": "2025-04-28T14:28:35.827784Z"
        },
        "id": "ec5BL9tAc2vp"
      },
      "outputs": [],
      "execution_count": null
    },
    {
      "cell_type": "code",
      "source": [
        "# Predict on test set\n",
        "test_preds = best_svm.predict(X_test_features)\n",
        "\n",
        "# Accuracy\n",
        "test_accuracy = accuracy_score(y_test_labels, test_preds)\n",
        "print(\"Test Accuracy:\", test_accuracy)\n",
        "\n",
        "# F1 Score\n",
        "f1 = f1_score(y_test_labels, test_preds, average='binary')  # For binary classification\n",
        "print(\"F1 Score (binary):\", f1)\n",
        "\n",
        "# Confusion Matrix\n",
        "cm = confusion_matrix(y_test_labels, test_preds)\n",
        "print(\"Confusion Matrix:\")\n",
        "print(cm)\n",
        "\n",
        "# Display Confusion Matrix\n",
        "disp = ConfusionMatrixDisplay(confusion_matrix=cm, display_labels=['Non-Defective', 'Defective'])\n",
        "disp.plot(cmap='Blues')\n",
        "plt.title(\"Confusion Matrix - SVM on Test Set\")\n",
        "plt.show()\n",
        "\n",
        "# Classification Report\n",
        "report = classification_report(y_test_labels, test_preds, target_names=['Non-Defective', 'Defective'])\n",
        "print(\"Classification Report:\")\n",
        "print(report)\n",
        "\n",
        "\n"
      ],
      "metadata": {
        "trusted": true,
        "execution": {
          "iopub.status.busy": "2025-04-28T14:19:26.208103Z",
          "iopub.execute_input": "2025-04-28T14:19:26.208454Z",
          "iopub.status.idle": "2025-04-28T14:19:26.427967Z",
          "shell.execute_reply.started": "2025-04-28T14:19:26.208431Z",
          "shell.execute_reply": "2025-04-28T14:19:26.426899Z"
        },
        "id": "UOlH-GP0c2vp"
      },
      "outputs": [],
      "execution_count": null
    },
    {
      "cell_type": "markdown",
      "source": [
        "### Logistic Regression Classification and Hyperparameter Tuning\n",
        "\n",
        "In this section, we train a Logistic Regression classifier using HOG features.\n",
        "\n",
        "- GridSearchCV is used to perform hyperparameter tuning over the following grid:\n",
        "  - \\(C\\) values: [0.01, 0.1, 1, 10, 100]\n",
        "  - Penalty: \\('l2'\\)\n",
        "  - Solver: \\('liblinear'\\), which works well for small datasets.\n",
        "- The maximum number of iterations is set to 1000 to ensure convergence during training.\n",
        "- A 5-fold cross-validation is applied to find the best set of hyperparameters.\n",
        "- The best Logistic Regression model is selected based on cross-validation accuracy.\n",
        "- The trained model is then evaluated on the validation and test sets, and the accuracies are reported.\n"
      ],
      "metadata": {
        "id": "4I_ri4fbc2vp"
      }
    },
    {
      "cell_type": "code",
      "source": [
        "param_grid_lr = {\n",
        "    'C': [0.01, 0.1, 1, 10, 100],\n",
        "    'penalty': ['l2'],   # use 'l1' if you want sparse models\n",
        "    'solver': ['liblinear']  # liblinear works well for small datasets\n",
        "}\n"
      ],
      "metadata": {
        "trusted": true,
        "execution": {
          "iopub.status.busy": "2025-04-28T14:19:47.186080Z",
          "iopub.execute_input": "2025-04-28T14:19:47.186463Z",
          "iopub.status.idle": "2025-04-28T14:19:47.191172Z",
          "shell.execute_reply.started": "2025-04-28T14:19:47.186437Z",
          "shell.execute_reply": "2025-04-28T14:19:47.190379Z"
        },
        "id": "U2L9YPY2c2vp"
      },
      "outputs": [],
      "execution_count": null
    },
    {
      "cell_type": "code",
      "source": [
        "log_reg = LogisticRegression(max_iter=1000)   # Set higher max_iter to ensure convergence\n",
        "\n",
        "grid_search_lr = GridSearchCV(estimator=log_reg,\n",
        "                              param_grid=param_grid_lr,\n",
        "                              cv=5,\n",
        "                              scoring='accuracy',\n",
        "                              verbose=2,\n",
        "                              n_jobs=-1)\n"
      ],
      "metadata": {
        "trusted": true,
        "execution": {
          "iopub.status.busy": "2025-04-28T14:19:52.308493Z",
          "iopub.execute_input": "2025-04-28T14:19:52.309013Z",
          "iopub.status.idle": "2025-04-28T14:19:52.314937Z",
          "shell.execute_reply.started": "2025-04-28T14:19:52.308983Z",
          "shell.execute_reply": "2025-04-28T14:19:52.313274Z"
        },
        "id": "E87Xnlrkc2vq"
      },
      "outputs": [],
      "execution_count": null
    },
    {
      "cell_type": "code",
      "source": [
        "grid_search_lr.fit(X_train_features, y_train_labels)\n"
      ],
      "metadata": {
        "trusted": true,
        "execution": {
          "iopub.status.busy": "2025-04-28T14:19:55.582963Z",
          "iopub.execute_input": "2025-04-28T14:19:55.583410Z",
          "iopub.status.idle": "2025-04-28T14:19:56.634520Z",
          "shell.execute_reply.started": "2025-04-28T14:19:55.583377Z",
          "shell.execute_reply": "2025-04-28T14:19:56.633213Z"
        },
        "id": "fgsA1x3Pc2vq"
      },
      "outputs": [],
      "execution_count": null
    },
    {
      "cell_type": "code",
      "source": [
        "print(\"Best Hyperparameters (Logistic Regression):\", grid_search_lr.best_params_)\n",
        "print(\"Best Cross-Validation Score:\", grid_search_lr.best_score_)\n"
      ],
      "metadata": {
        "trusted": true,
        "execution": {
          "iopub.status.busy": "2025-04-28T14:19:58.533111Z",
          "iopub.execute_input": "2025-04-28T14:19:58.533431Z",
          "iopub.status.idle": "2025-04-28T14:19:58.538545Z",
          "shell.execute_reply.started": "2025-04-28T14:19:58.533406Z",
          "shell.execute_reply": "2025-04-28T14:19:58.537716Z"
        },
        "id": "f3K18AO3c2vq"
      },
      "outputs": [],
      "execution_count": null
    },
    {
      "cell_type": "code",
      "source": [
        "\n",
        "# Validation Predictions\n",
        "val_preds_lr = best_log_reg.predict(X_val_features)\n",
        "\n",
        "# Validation Accuracy\n",
        "val_accuracy_lr = accuracy_score(y_val_labels, val_preds_lr)\n",
        "print(\"Validation Accuracy (Logistic Regression):\", val_accuracy_lr)\n",
        "\n",
        "# Validation F1 Score\n",
        "val_f1_lr = f1_score(y_val_labels, val_preds_lr, average='binary')\n",
        "print(\"Validation F1 Score (Logistic Regression):\", val_f1_lr)\n",
        "\n",
        "# Validation Confusion Matrix\n",
        "cm_val_lr = confusion_matrix(y_val_labels, val_preds_lr)\n",
        "print(\"Validation Confusion Matrix (Logistic Regression):\")\n",
        "print(cm_val_lr)\n",
        "\n",
        "# Display Confusion Matrix\n",
        "disp_val_lr = ConfusionMatrixDisplay(confusion_matrix=cm_val_lr, display_labels=['Non-Defective', 'Defective'])\n",
        "disp_val_lr.plot(cmap='Blues')\n",
        "plt.title(\"Validation Confusion Matrix - Logistic Regression\")\n",
        "plt.show()\n"
      ],
      "metadata": {
        "trusted": true,
        "execution": {
          "iopub.status.busy": "2025-04-28T14:27:57.242621Z",
          "iopub.execute_input": "2025-04-28T14:27:57.243003Z",
          "iopub.status.idle": "2025-04-28T14:27:57.443220Z",
          "shell.execute_reply.started": "2025-04-28T14:27:57.242979Z",
          "shell.execute_reply": "2025-04-28T14:27:57.442364Z"
        },
        "id": "1NADqsRhc2vq"
      },
      "outputs": [],
      "execution_count": null
    },
    {
      "cell_type": "code",
      "source": [
        "# Predict on test set\n",
        "test_preds_lr = best_log_reg.predict(X_test_features)\n",
        "\n",
        "# Accuracy\n",
        "test_accuracy_lr = accuracy_score(y_test_labels, test_preds_lr)\n",
        "print(\"Test Accuracy (Logistic Regression):\", test_accuracy_lr)\n",
        "\n",
        "# F1 Score\n",
        "f1_lr = f1_score(y_test_labels, test_preds_lr, average='binary')\n",
        "print(\"F1 Score (binary) (Logistic Regression):\", f1_lr)\n",
        "\n",
        "# Confusion Matrix\n",
        "cm_lr = confusion_matrix(y_test_labels, test_preds_lr)\n",
        "print(\"Confusion Matrix (Logistic Regression):\")\n",
        "print(cm_lr)\n",
        "\n",
        "# Display Confusion Matrix\n",
        "disp_lr = ConfusionMatrixDisplay(confusion_matrix=cm_lr, display_labels=['Non-Defective', 'Defective'])\n",
        "disp_lr.plot(cmap='Blues')\n",
        "plt.title(\"Confusion Matrix - Logistic Regression on Test Set\")\n",
        "plt.show()\n",
        "\n",
        "# Classification Report\n",
        "report_lr = classification_report(y_test_labels, test_preds_lr, target_names=['Non-Defective', 'Defective'])\n",
        "print(\"Classification Report (Logistic Regression):\")\n",
        "print(report_lr)\n",
        "\n",
        "\n"
      ],
      "metadata": {
        "trusted": true,
        "execution": {
          "iopub.status.busy": "2025-04-28T14:21:04.561380Z",
          "iopub.execute_input": "2025-04-28T14:21:04.561884Z",
          "iopub.status.idle": "2025-04-28T14:21:04.790781Z",
          "shell.execute_reply.started": "2025-04-28T14:21:04.561854Z",
          "shell.execute_reply": "2025-04-28T14:21:04.789581Z"
        },
        "id": "ZdIDrsRyc2vq"
      },
      "outputs": [],
      "execution_count": null
    },
    {
      "cell_type": "markdown",
      "source": [
        "### Random Forest Classification and Hyperparameter Tuning\n",
        "\n",
        "In this section, we train a Random Forest classifier using HOG features.\n",
        "\n",
        "- GridSearchCV is used to perform hyperparameter tuning over the following grid:\n",
        "  - Number of estimators (\\(n\\_estimators\\)): [50, 100, 200]\n",
        "  - Maximum tree depth (\\(max\\_depth\\)): [None, 10, 20, 30]\n",
        "  - Minimum number of samples required to split an internal node (\\(min\\_samples\\_split\\)): [2, 5, 10]\n",
        "  - Minimum number of samples required to be at a leaf node (\\(min\\_samples\\_leaf\\)): [1, 2, 4]\n",
        "- A 5-fold cross-validation is applied to find the best set of hyperparameters.\n",
        "- The best Random Forest model is selected based on cross-validation accuracy.\n",
        "- The trained model is then evaluated on the validation and test sets, and the accuracies are reported.\n"
      ],
      "metadata": {
        "id": "E6PmRveLc2vq"
      }
    },
    {
      "cell_type": "code",
      "source": [
        "param_grid_rf = {\n",
        "    'n_estimators': [50, 100, 200],\n",
        "    'max_depth': [None, 10, 20, 30],\n",
        "    'min_samples_split': [2, 5, 10],\n",
        "    'min_samples_leaf': [1, 2, 4]\n",
        "}\n"
      ],
      "metadata": {
        "trusted": true,
        "execution": {
          "iopub.status.busy": "2025-04-28T14:21:35.166225Z",
          "iopub.execute_input": "2025-04-28T14:21:35.166548Z",
          "iopub.status.idle": "2025-04-28T14:21:35.171589Z",
          "shell.execute_reply.started": "2025-04-28T14:21:35.166525Z",
          "shell.execute_reply": "2025-04-28T14:21:35.170731Z"
        },
        "id": "RCHGdfSrc2vr"
      },
      "outputs": [],
      "execution_count": null
    },
    {
      "cell_type": "code",
      "source": [
        "rf_clf = RandomForestClassifier()\n",
        "\n",
        "grid_search_rf = GridSearchCV(estimator=rf_clf,\n",
        "                              param_grid=param_grid_rf,\n",
        "                              cv=5,\n",
        "                              scoring='accuracy',\n",
        "                              verbose=2,\n",
        "                              n_jobs=-1)\n"
      ],
      "metadata": {
        "trusted": true,
        "execution": {
          "iopub.status.busy": "2025-04-28T14:21:37.295436Z",
          "iopub.execute_input": "2025-04-28T14:21:37.295804Z",
          "iopub.status.idle": "2025-04-28T14:21:37.301381Z",
          "shell.execute_reply.started": "2025-04-28T14:21:37.295777Z",
          "shell.execute_reply": "2025-04-28T14:21:37.300367Z"
        },
        "id": "tjQjxJb5c2vr"
      },
      "outputs": [],
      "execution_count": null
    },
    {
      "cell_type": "code",
      "source": [
        "grid_search_rf.fit(X_train_features, y_train_labels)\n"
      ],
      "metadata": {
        "trusted": true,
        "execution": {
          "iopub.status.busy": "2025-04-28T14:21:39.861163Z",
          "iopub.execute_input": "2025-04-28T14:21:39.861521Z",
          "iopub.status.idle": "2025-04-28T14:23:52.729020Z",
          "shell.execute_reply.started": "2025-04-28T14:21:39.861497Z",
          "shell.execute_reply": "2025-04-28T14:23:52.728063Z"
        },
        "id": "exw7K8akc2vr"
      },
      "outputs": [],
      "execution_count": null
    },
    {
      "cell_type": "code",
      "source": [
        "print(\"Best Hyperparameters (Random Forest):\", grid_search_rf.best_params_)\n",
        "print(\"Best Cross-Validation Score:\", grid_search_rf.best_score_)\n"
      ],
      "metadata": {
        "trusted": true,
        "execution": {
          "iopub.status.busy": "2025-04-28T14:23:52.730431Z",
          "iopub.execute_input": "2025-04-28T14:23:52.730727Z",
          "iopub.status.idle": "2025-04-28T14:23:52.735590Z",
          "shell.execute_reply.started": "2025-04-28T14:23:52.730704Z",
          "shell.execute_reply": "2025-04-28T14:23:52.734737Z"
        },
        "id": "LxyVKObuc2vr"
      },
      "outputs": [],
      "execution_count": null
    },
    {
      "cell_type": "code",
      "source": [
        "# Validation Predictions\n",
        "val_preds_rf = best_rf.predict(X_val_features)\n",
        "\n",
        "# Validation Accuracy\n",
        "val_accuracy_rf = accuracy_score(y_val_labels, val_preds_rf)\n",
        "print(\"Validation Accuracy (Random Forest):\", val_accuracy_rf)\n",
        "\n",
        "# Validation F1 Score\n",
        "val_f1_rf = f1_score(y_val_labels, val_preds_rf, average='binary')\n",
        "print(\"Validation F1 Score (Random Forest):\", val_f1_rf)\n",
        "\n",
        "# Validation Confusion Matrix\n",
        "cm_val_rf = confusion_matrix(y_val_labels, val_preds_rf)\n",
        "print(\"Validation Confusion Matrix (Random Forest):\")\n",
        "print(cm_val_rf)\n",
        "\n",
        "# Display Confusion Matrix\n",
        "disp_val_rf = ConfusionMatrixDisplay(confusion_matrix=cm_val_rf, display_labels=['Non-Defective', 'Defective'])\n",
        "disp_val_rf.plot(cmap='Blues')\n",
        "plt.title(\"Validation Confusion Matrix - Random Forest\")\n",
        "plt.show()\n"
      ],
      "metadata": {
        "trusted": true,
        "execution": {
          "iopub.status.busy": "2025-04-28T14:27:00.469846Z",
          "iopub.execute_input": "2025-04-28T14:27:00.470192Z",
          "iopub.status.idle": "2025-04-28T14:27:00.690683Z",
          "shell.execute_reply.started": "2025-04-28T14:27:00.470167Z",
          "shell.execute_reply": "2025-04-28T14:27:00.689685Z"
        },
        "id": "ULpmvuiWc2vr"
      },
      "outputs": [],
      "execution_count": null
    },
    {
      "cell_type": "code",
      "source": [
        "# Predict on test set\n",
        "test_preds_rf = best_rf.predict(X_test_features)\n",
        "\n",
        "# Accuracy\n",
        "test_accuracy_rf = accuracy_score(y_test_labels, test_preds_rf)\n",
        "print(\"Test Accuracy (Random Forest):\", test_accuracy_rf)\n",
        "\n",
        "# F1 Score\n",
        "f1_rf = f1_score(y_test_labels, test_preds_rf, average='binary')\n",
        "print(\"F1 Score (binary) (Random Forest):\", f1_rf)\n",
        "\n",
        "\n",
        "# Confusion Matrix\n",
        "cm_rf = confusion_matrix(y_test_labels, test_preds_rf)\n",
        "print(\"Confusion Matrix (Random Forest):\")\n",
        "print(cm_rf)\n",
        "\n",
        "# Display Confusion Matrix\n",
        "disp_rf = ConfusionMatrixDisplay(confusion_matrix=cm_rf, display_labels=['Non-Defective', 'Defective'])\n",
        "disp_rf.plot(cmap='Blues')\n",
        "plt.title(\"Confusion Matrix - Random Forest on Test Set\")\n",
        "plt.show()\n",
        "\n",
        "# Classification Report\n",
        "report_rf = classification_report(y_test_labels, test_preds_rf, target_names=['Non-Defective', 'Defective'])\n",
        "print(\"Classification Report (Random Forest):\")\n",
        "print(report_rf)\n",
        "\n"
      ],
      "metadata": {
        "trusted": true,
        "execution": {
          "iopub.status.busy": "2025-04-28T14:24:51.884337Z",
          "iopub.execute_input": "2025-04-28T14:24:51.884725Z",
          "iopub.status.idle": "2025-04-28T14:24:52.131696Z",
          "shell.execute_reply.started": "2025-04-28T14:24:51.884693Z",
          "shell.execute_reply": "2025-04-28T14:24:52.130745Z"
        },
        "id": "FLg-uM2ec2vs"
      },
      "outputs": [],
      "execution_count": null
    },
    {
      "cell_type": "code",
      "source": [
        "# Model names\n",
        "models = ['SVM', 'Logistic Regression', 'Random Forest']\n",
        "\n",
        "# Scores\n",
        "val_accuracy = [0.7097, 0.6129, 0.5968]\n",
        "test_accuracy = [0.5909, 0.5455, 0.5909]\n",
        "val_f1 = [0.7188, 0.6471, 0.5763]\n",
        "test_f1 = [0.5263, 0.4444, 0.4]\n",
        "\n",
        "# X locations\n",
        "x = np.arange(len(models))  # the label locations\n",
        "width = 0.2  # width of the bars\n",
        "\n",
        "# Create plot\n",
        "fig, ax = plt.subplots(figsize=(10, 6))\n",
        "\n",
        "# Plot bars\n",
        "rects1 = ax.bar(x - 1.5*width, val_accuracy, width, label='Validation Accuracy')\n",
        "rects2 = ax.bar(x - 0.5*width, test_accuracy, width, label='Test Accuracy')\n",
        "rects3 = ax.bar(x + 0.5*width, val_f1, width, label='Validation F1 Score')\n",
        "rects4 = ax.bar(x + 1.5*width, test_f1, width, label='Test F1 Score')\n",
        "\n",
        "# Labels and Title\n",
        "ax.set_xlabel('Models')\n",
        "ax.set_ylabel('Scores')\n",
        "ax.set_title('Comparison of Accuracy and F1 Score for Different Models')\n",
        "ax.set_xticks(x)\n",
        "ax.set_xticklabels(models)\n",
        "ax.legend()\n",
        "ax.grid(axis='y')\n",
        "\n",
        "# Save the plot\n",
        "plt.tight_layout()\n",
        "plt.savefig('model_performance_comparison.png', dpi=300)\n",
        "\n",
        "# Show plot\n",
        "plt.show()\n"
      ],
      "metadata": {
        "trusted": true,
        "execution": {
          "iopub.status.busy": "2025-04-28T14:38:33.031308Z",
          "iopub.execute_input": "2025-04-28T14:38:33.031699Z",
          "iopub.status.idle": "2025-04-28T14:38:33.756433Z",
          "shell.execute_reply.started": "2025-04-28T14:38:33.031623Z",
          "shell.execute_reply": "2025-04-28T14:38:33.755548Z"
        },
        "id": "h8gCu8brc2vs"
      },
      "outputs": [],
      "execution_count": null
    },
    {
      "cell_type": "markdown",
      "source": [
        "CONFUSION MATRIX OF THE BEST PERFORMING MODEL-SVM:\n",
        "![SVM_CLASSCAL.png](data:image/png;base64,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)"
      ],
      "metadata": {
        "id": "g731q0cDdOjU"
      }
    },
    {
      "cell_type": "markdown",
      "source": [
        "##Comparison of Different Algorithms:\n",
        "![CLASSICAL_COMPARISON.png](data:image/png;base64,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)"
      ],
      "metadata": {
        "id": "QxbDLQk3c5ta"
      }
    },
    {
      "cell_type": "markdown",
      "source": [
        "### Model Performance Comparison\n",
        "\n",
        "The performance of three models — SVM, Logistic Regression, and Random Forest — was evaluated based on validation and test sets. Both accuracy and F1-score metrics were used to provide a comprehensive assessment.\n",
        "\n",
        "The following table summarizes the results:\n",
        "\n",
        "| Model                | Validation Accuracy | Test Accuracy | Validation F1 Score | Test F1 Score |\n",
        "|----------------------|----------------------|---------------|---------------------|---------------|\n",
        "| SVM                  | 0.7097               | 0.5909        | 0.7188              | 0.5263        |\n",
        "| Logistic Regression  | 0.6129               | 0.5455        | 0.6471              | 0.4444        |\n",
        "| Random Forest        | 0.5968               | 0.5909        | 0.5763              | 0.4000        |\n",
        "\n",
        "The bar chart below visualizes these results, providing a direct comparison across different models.\n",
        "\n",
        "From the analysis:\n",
        "- SVM achieved the highest validation accuracy and F1 score, although its performance dropped slightly on the test set.\n",
        "- Logistic Regression performed reasonably well but had lower F1 scores compared to SVM.\n",
        "- Random Forest had comparable test accuracy to SVM but exhibited a lower F1 score, suggesting more false positives or false negatives.\n",
        "\n",
        "Overall, SVM appears to offer the best trade-off between precision and recall among the models tested.\n"
      ],
      "metadata": {
        "id": "1UY6fTCvc2vs"
      }
    }
  ]
}